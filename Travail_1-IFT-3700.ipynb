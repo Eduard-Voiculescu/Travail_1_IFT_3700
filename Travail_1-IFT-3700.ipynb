{
 "cells": [
  {
   "cell_type": "markdown",
   "metadata": {},
   "source": [
    "## Travail pratique - 1 - IFT 3700\n",
    "\n",
    "Travail présenté à \n",
    "Philippe Brouillard\n",
    "Arnaud L'Heureux\n",
    "\n",
    "Travail fait par \n",
    "BOUNOUAR Zakaria - 20026947\n",
    "EID Alain - 20061065\n",
    "STEENHAUT Sami - 20061630\n",
    "VOICULESCU Eduard - 20078235"
   ]
  },
  {
   "cell_type": "code",
   "execution_count": 1,
   "metadata": {},
   "outputs": [],
   "source": [
    "#!/usr/bin/env python\n",
    "%matplotlib inline\n",
    "\n",
    "# run pip install -U scikit-learn (if scikit-learn not installed)\n",
    "from sklearn.cluster import KMeans\n",
    "from sklearn.datasets import make_blobs\n",
    "from sklearn.metrics.pairwise import euclidean_distances\n",
    "import matplotlib.pyplot as plt  # run python3 -m pip install -U matplotlib\n",
    "import numpy as np\n",
    "import csv\n",
    "import math\n",
    "import copy\n",
    "\n",
    "# load data_train in data_train\n",
    "with open('mnist_train.csv') as data_train:\n",
    "    csv_file = csv.reader(data_train)\n",
    "\n",
    "    data_points = []\n",
    "\n",
    "    for row in csv_file:\n",
    "        data_points.append(row)\n",
    "\n",
    "    # pop out first line, the \"labels\" of our columns\n",
    "    data_points.pop(0)\n",
    "\n",
    "# load data_test in data_test\n",
    "with open('mnist_test.csv') as data_test:\n",
    "    csv_file = csv.reader(data_test)\n",
    "\n",
    "    data_points_test = []\n",
    "\n",
    "    for row in csv_file:\n",
    "        data_points_test.append(row)\n",
    "\n",
    "    # pop out first line, the \"labels\" of our columns\n",
    "    data_points_test.pop(0)\n",
    "\n",
    "# Load les labels dans labels[]\n",
    "labels = []\n",
    "\n",
    "for row in data_points: \n",
    "    labels.append(row[0])  # La colonne des labels\n",
    "\n",
    "x_train = []\n",
    "\n",
    "for row in data_points:\n",
    "    x_train.append(row[1:785])\n",
    "\n",
    "# Load testing set in x_test\n",
    "x_test = []\n",
    "for row in data_points_test:\n",
    "    x_test.append(row[1:785])\n",
    "\n",
    "# Load labels in labels_test\n",
    "labels_test = []\n",
    "for row in data_points_test:\n",
    "    labels_test.append(row[0])"
   ]
  },
  {
   "cell_type": "code",
   "execution_count": 2,
   "metadata": {},
   "outputs": [],
   "source": [
    "q_train = copy.deepcopy(x_train[0:1000])\n",
    "euclidean_train = euclidean_distances(q_train)"
   ]
  },
  {
   "cell_type": "markdown",
   "metadata": {},
   "source": [
    "Dans la cellule suivante nous allons convertir toutes les données de q_train (qui sont de type string) en float."
   ]
  },
  {
   "cell_type": "code",
   "execution_count": 3,
   "metadata": {},
   "outputs": [],
   "source": [
    "for i in range(len(q_train)):\n",
    "    for j in range(len(q_train[i])):\n",
    "            q_train[i][j] = float(q_train[i][j])"
   ]
  },
  {
   "cell_type": "markdown",
   "metadata": {},
   "source": [
    "**Notion de similarité**\n",
    "\n",
    "Pour notre notion de similarité nous avons décidé de s’inspirer de la distance d’édition de Hamming. L’idée est de comparer les pixels correspondants de chaque images tout comme avec la distance euclidienne, mais au lieux de calculer la différence d’intensité et d’en faire une distance, nous vérifions simplement si les deux pixels sont de \"la même couleur\". Par couleur, on entend blanc ou noir/gris. En d’autre mots, la notion de similarité proposée représente le nombre de pixels qu’il faut changer (passer de blanc à noir/gris ou vice-versa) sur une image A pour obtenir l’image B.\n",
    "\n",
    "Avant d’écrire un algorithme pour quantifier cette similarité il faut établir une limite d’intensité de gris à partir de laquelle on ne considère plus que le pixel est blanc. Nous avons remarqué que les pixels devenaient gris très rapidement et qu’autour de 50 on ne pouvait déjà plus considérer le pixel comme étant blanc. Après quelques tests et par consensus d’équipe, 40 fut choisi comme limite. Au-dessus de cette valeur le pixel est considéré gris/noir par notre mesure.\n",
    "\n",
    "Cette distance d’édition se calcule de la manière suivante. Lorsqu’on compare une image A avec une image B, à chaque pixel correspondant sur les deux images on vérifie la valeur d’intensité. Si les deux valeurs sont en bas de 40 (les deux pixels correspondants sont blancs) ou les deux sont en haut de 40 (les deux sont noirs/gris) on considèrent que les deux pixels sont de la même couleur. Sinon, on considèrent qu’ils ne sont pas de la même couleur (un est blanc alors que l’autre est noir/gris) et la distance entre les deux images est incrémentée de 1.\n",
    "\n",
    "Par conséquent, la distance minimale entre deux images est 0 ce qui signifie qu’elles sont identiques et la distance maximale est de 784 qui signifie que les deux images n’ont pas un seul pixel en commun.\n",
    "\n",
    "Notre hypothèse est que cette notion de similarité devraient avoir à peu près la même performance que la distance euclidienne puisque toutes les deux se basent sur l’intensité des pixels. La différence est qu’avec notre méthode la mesure est plus souple puisqu’elle permet théoriquement à deux images du même chiffre qui ont des intensités de gris différentes dans certains pixels noirs d’avoir une distance nulle (de 0).\n",
    "\n",
    "Ci-dessous, nous calculons notre notion de similarité."
   ]
  },
  {
   "cell_type": "code",
   "execution_count": 4,
   "metadata": {},
   "outputs": [],
   "source": [
    "edition_train = []\n",
    "for i in range(len(q_train)):\n",
    "    row = []\n",
    "    for j in range(len(q_train)):\n",
    "        row_x = q_train[i]\n",
    "        row_y = q_train[j]\n",
    "        total_dist = 0\n",
    "        for k in range(len(row_x)):\n",
    "            # Itensité des pixels correspondants de chaque image\n",
    "            pixel_value_x = row_x[k]\n",
    "            pixel_value_y = row_y[k]\n",
    "            \n",
    "            # si les pixels sont blancs ou les pixels sont noirs/gris\n",
    "            if (pixel_value_x < 40 and pixel_value_y < 40) or (pixel_value_x >= 40 and pixel_value_y >= 40): \n",
    "                total_dist += 0\n",
    "            else:  # ne sont pas de la meme couleur\n",
    "                total_dist += 1\n",
    "        \n",
    "        row.append(total_dist)\n",
    "    edition_train.append(row)"
   ]
  },
  {
   "cell_type": "markdown",
   "metadata": {},
   "source": [
    "**k-medoïde**"
   ]
  },
  {
   "cell_type": "markdown",
   "metadata": {},
   "source": [
    "Dans la section ci-dessous, nous allons appliquons la méthode k-Médoïde sur une partie de nos données.\n",
    "En effet, il serait vraiment plus pratique et surtout précis d'utiliser toutes nos données dans x_train, \n",
    "mais jouer avec 60 000 données impliqueraient d'avoir des Memory Errors asssurées. \n",
    "On va donc ce créer un nouveau tableau (Q_train) contenant les 1000 premières données de x_train et \n",
    "nous placerons leurs labels dans un nouveau tableau (L_train). <br><br>\n",
    "Donc pour commencer, nous allons créer deux matrices de distance.\n",
    "<br> La première, appelée matrice_distance_euclidienne, sera la matrice de distances euclidiennes des données de Q_train.\n",
    "<br> La deuxième, appelée matrice_our_distance, sera la matrice de distances calculés avec notre mesure de similarité."
   ]
  },
  {
   "cell_type": "markdown",
   "metadata": {},
   "source": [
    "Notre jeu de données réduit !"
   ]
  },
  {
   "cell_type": "code",
   "execution_count": 5,
   "metadata": {},
   "outputs": [],
   "source": [
    "Q_train = np.array(copy.deepcopy(x_train[0:1000])).astype(np.float64)\n",
    "L_train = np.array(copy.deepcopy(labels[0:1000])).astype(np.float64)\n",
    "\n",
    "matrice_distance_euclidienne = euclidean_distances(Q_train)\n",
    "matrice_our_distance = np.array(copy.deepcopy(edition_train)).astype(np.float64)"
   ]
  },
  {
   "cell_type": "markdown",
   "metadata": {},
   "source": [
    "Nous allons maintenant importer les librairies nécessaires."
   ]
  },
  {
   "cell_type": "code",
   "execution_count": 6,
   "metadata": {},
   "outputs": [],
   "source": [
    "from sklearn.metrics import silhouette_score\n",
    "from sklearn.cluster import KMeans\n",
    "from pyclustering.cluster.kmedoids import kmedoids  # run pip install pyclustering"
   ]
  },
  {
   "cell_type": "markdown",
   "metadata": {},
   "source": [
    "Maintenant que nous avons nos matrices de distances, on peut passer à l'application de K-Médoïde. <br>\n",
    "Tout d'abord, il faut choisir la valeur de l'hyperparamêtre k. Nous allons utiliser la méthode vue en démo, soit celle du score silhouette. (fortement inspiré de la démo 2)"
   ]
  },
  {
   "cell_type": "code",
   "execution_count": 28,
   "metadata": {},
   "outputs": [
    {
     "data": {
      "text/plain": [
       "Text(0.5, 1.0, 'Score silhouette en fonction de k')"
      ]
     },
     "execution_count": 28,
     "metadata": {},
     "output_type": "execute_result"
    },
    {
     "data": {
      "image/png": "[encoded data removed]",
      "text/plain": [
       "<Figure size 432x288 with 1 Axes>"
      ]
     },
     "metadata": {
      "needs_background": "light"
     },
     "output_type": "display_data"
    }
   ],
   "source": [
    "scores = []\n",
    "k_range = range(5,20)\n",
    "for k in k_range:\n",
    "    y_pred = KMeans(n_clusters=k).fit_predict(Q_train)\n",
    "    scores.append(silhouette_score(Q_train, y_pred))\n",
    "    \n",
    "    \n",
    "plt.plot(k_range, scores)\n",
    "plt.xlabel('k')\n",
    "plt.ylabel('Score silhouette')\n",
    "plt.title('Score silhouette en fonction de k')"
   ]
  },
  {
   "cell_type": "markdown",
   "metadata": {},
   "source": [
    "**Prenez note**: Si vous relancez la cellule ci-dessus, il se peut que le nombre de cluster *optimal* change.<br>\n",
    "On obtient un hyperparamêtre k qui vaut 16. C'est intriguant, car intuitivement on aurait pu penser que k aurait valu 10,\n",
    "car il y a 10 classes. Mais en fait, il est possible que notre méthode de partitionnement aille pris en compte les graphies\n",
    "différentes de certains chiffres, ce qui fait en sorte, que le chiffre 7, par exemple, pourrait être représenté par plus d'un cluster.<br><br>\n",
    "Maintenant que nous avons notre k, nous pouvons implémenter notre méthode k-Médoïde. Nous allons la faire pour la version euclidienne ainsi que pour la version de notre propre mesure de distance."
   ]
  },
  {
   "cell_type": "markdown",
   "metadata": {},
   "source": [
    "*Version Euclidienne*"
   ]
  },
  {
   "cell_type": "code",
   "execution_count": 29,
   "metadata": {},
   "outputs": [],
   "source": [
    "initial_medoids_euclidienne = [0,1,2,3,4,5,6,7,8,9,10,11,12,13,14,15]\n",
    "# ici, nous donnons directement notre matrice de distances euclidiennes\n",
    "kmedoids_instance_euclidienne = kmedoids(matrice_distance_euclidienne, initial_medoids_euclidienne, data_type='distance_matrix')\n",
    "kmedoids_instance_euclidienne.process()\n",
    "clusters_euclidienne = kmedoids_instance_euclidienne.get_clusters()\n",
    "medoids_euclidienne = kmedoids_instance_euclidienne.get_medoids()"
   ]
  },
  {
   "cell_type": "markdown",
   "metadata": {},
   "source": [
    "*Version our_distance*"
   ]
  },
  {
   "cell_type": "code",
   "execution_count": 30,
   "metadata": {},
   "outputs": [],
   "source": [
    "initial_medoids_our_distance = [0,1,2,3,4,5,6,7,8,9,10,11,12,13,14,15]\n",
    "# ici, nous donnons directement notre matrice_our_distance\n",
    "kmedoids_instance_our_distance = kmedoids(matrice_our_distance, initial_medoids_our_distance, data_type='distance_matrix')\n",
    "kmedoids_instance_our_distance.process()\n",
    "clusters_our_distance = kmedoids_instance_our_distance.get_clusters()\n",
    "medoids_our_distance = kmedoids_instance_our_distance.get_medoids()"
   ]
  },
  {
   "cell_type": "markdown",
   "metadata": {},
   "source": [
    "Une fois fait, on peut visualiser quel est la valeur de nos 16 clusters en allant chercher leur label.<br><br>\n",
    "Pour voir le partionnement, on propose d'allez selectionner le label le plus récurent de chaque section, pour savoir si les données sont bien réparties dans chaque zone crée par les centroides."
   ]
  },
  {
   "cell_type": "markdown",
   "metadata": {},
   "source": [
    "*Version Euclidienne* -> Centroïde"
   ]
  },
  {
   "cell_type": "code",
   "execution_count": 31,
   "metadata": {},
   "outputs": [
    {
     "name": "stdout",
     "output_type": "stream",
     "text": [
      "Centroïde \" 5.0 \" :: label le plus recurrent  5 :: et est présent à  60.0 %\n",
      "Centroïde \" 0.0 \" :: label le plus recurrent  0 :: et est présent à  94.74 %\n",
      "Centroïde \" 4.0 \" :: label le plus recurrent  4 :: et est présent à  53.85 %\n",
      "Centroïde \" 1.0 \" :: label le plus recurrent  1 :: et est présent à  55.05 %\n",
      "Centroïde \" 9.0 \" :: label le plus recurrent  9 :: et est présent à  44.55 %\n",
      "Centroïde \" 2.0 \" :: label le plus recurrent  2 :: et est présent à  69.64 %\n",
      "Centroïde \" 1.0 \" :: label le plus recurrent  1 :: et est présent à  51.52 %\n",
      "Centroïde \" 3.0 \" :: label le plus recurrent  3 :: et est présent à  56.0 %\n",
      "Centroïde \" 1.0 \" :: label le plus recurrent  1 :: et est présent à  18.03 %\n",
      "Centroïde \" 4.0 \" :: label le plus recurrent  4 :: et est présent à  76.67 %\n",
      "Centroïde \" 3.0 \" :: label le plus recurrent  3 :: et est présent à  66.67 %\n",
      "Centroïde \" 5.0 \" :: label le plus recurrent  5 :: et est présent à  55.56 %\n",
      "Centroïde \" 3.0 \" :: label le plus recurrent  5 :: et est présent à  42.5 %\n",
      "Centroïde \" 6.0 \" :: label le plus recurrent  6 :: et est présent à  86.49 %\n",
      "Centroïde \" 1.0 \" :: label le plus recurrent  1 :: et est présent à  43.33 %\n",
      "Centroïde \" 7.0 \" :: label le plus recurrent  7 :: et est présent à  56.25 %\n"
     ]
    }
   ],
   "source": [
    "\n",
    "#Tout d'abord, il faut créer une liste, qui contiendra toutes les labels selon leur cluster associé\n",
    "labels_by_clusters = []\n",
    "for i in range(len(clusters_euclidienne)):\n",
    "    labels_by_row= []\n",
    "    for j in range(len(clusters_euclidienne[i])):\n",
    "        labels_by_row.append(L_train[clusters_euclidienne[i][j]])\n",
    "    labels_by_clusters.append(labels_by_row)\n",
    "    \n",
    "#Puis, créer une liste qui contiendra le label le plus récurent par cluster\n",
    "most_recurent_label = []\n",
    "counts = []\n",
    "for i in range(len(labels_by_clusters)):\n",
    "    counts.append(np.bincount(labels_by_clusters[i]))\n",
    "    most_recurent_label.append(np.argmax(counts[i]))    \n",
    "\n",
    "\n",
    "for i in range(len(most_recurent_label)):\n",
    "    print('Centroïde \"',L_train[medoids_euclidienne[i]],'\" :: label le plus recurrent ',most_recurent_label[i], ':: et est présent à ',round(max(counts[i])*100/len(labels_by_clusters[i]),2),'%')"
   ]
  },
  {
   "cell_type": "markdown",
   "metadata": {},
   "source": [
    "C'est le temps de tester avec notre distance. Nous allons répéter les mêmes étapes, mais avec les variables our_distance."
   ]
  },
  {
   "cell_type": "markdown",
   "metadata": {},
   "source": [
    "Version our_distance -> Centroïde"
   ]
  },
  {
   "cell_type": "code",
   "execution_count": 32,
   "metadata": {},
   "outputs": [
    {
     "name": "stdout",
     "output_type": "stream",
     "text": [
      "Centroïde \" 5.0 \" :: label le plus récurrent  5 :: et est présent à  93.1 %\n",
      "Centroïde \" 0.0 \" :: label le plus récurrent  0 :: et est présent à  93.51 %\n",
      "Centroïde \" 4.0 \" :: label le plus récurrent  4 :: et est présent à  59.57 %\n",
      "Centroïde \" 1.0 \" :: label le plus récurrent  1 :: et est présent à  55.56 %\n",
      "Centroïde \" 9.0 \" :: label le plus récurrent  9 :: et est présent à  50.0 %\n",
      "Centroïde \" 2.0 \" :: label le plus récurrent  2 :: et est présent à  59.09 %\n",
      "Centroïde \" 1.0 \" :: label le plus récurrent  1 :: et est présent à  34.0 %\n",
      "Centroïde \" 3.0 \" :: label le plus récurrent  3 :: et est présent à  66.67 %\n",
      "Centroïde \" 1.0 \" :: label le plus récurrent  1 :: et est présent à  17.19 %\n",
      "Centroïde \" 4.0 \" :: label le plus récurrent  4 :: et est présent à  79.31 %\n",
      "Centroïde \" 3.0 \" :: label le plus récurrent  3 :: et est présent à  37.29 %\n",
      "Centroïde \" 5.0 \" :: label le plus récurrent  5 :: et est présent à  71.43 %\n",
      "Centroïde \" 3.0 \" :: label le plus récurrent  5 :: et est présent à  37.78 %\n",
      "Centroïde \" 6.0 \" :: label le plus récurrent  6 :: et est présent à  76.19 %\n",
      "Centroïde \" 1.0 \" :: label le plus récurrent  1 :: et est présent à  74.29 %\n",
      "Centroïde \" 7.0 \" :: label le plus récurrent  7 :: et est présent à  52.43 %\n"
     ]
    }
   ],
   "source": [
    "\n",
    "#Tout d'abord, il faut créer une liste, qui contiendra toutes les labels selon leur cluster associé\n",
    "labels_by_clusters_od = [] #od pour our_distance\n",
    "for i in range(len(clusters_our_distance)):\n",
    "    labels_by_row_od= []\n",
    "    for j in range(len(clusters_our_distance[i])):\n",
    "        labels_by_row_od.append(L_train[clusters_our_distance[i][j]])\n",
    "    labels_by_clusters_od.append(labels_by_row_od)\n",
    "    \n",
    "#Puis, créer une liste qui contiendra le label le plus récurent par cluster\n",
    "most_recurent_label_od = []\n",
    "counts_od = []\n",
    "for i in range(len(labels_by_clusters_od)):\n",
    "    counts_od.append(np.bincount(labels_by_clusters[i]))\n",
    "    most_recurent_label_od.append(np.argmax(counts[i]))    \n",
    "\n",
    "for i in range(len(most_recurent_label_od)):\n",
    "    print('Centroïde \"',L_train[medoids_our_distance[i]],'\" :: label le plus récurrent ',most_recurent_label_od[i], ':: et est présent à ',round(max(counts_od[i])*100/len(labels_by_clusters_od[i]),2),'%')"
   ]
  },
  {
   "cell_type": "markdown",
   "metadata": {},
   "source": [
    "Juste pour avoir un chiffre qui représente la précision global de notre model, on fait la moyenne de chaque précision."
   ]
  },
  {
   "cell_type": "code",
   "execution_count": 33,
   "metadata": {},
   "outputs": [
    {
     "name": "stdout",
     "output_type": "stream",
     "text": [
      "La précision du k-Médoïde avec distance euclidienne 58.18 %\n",
      "La précision du k-Médoïde avec notre mesure de similarité 59.84 %\n"
     ]
    }
   ],
   "source": [
    "accuracy = 0\n",
    "for i in range(len(most_recurent_label)):\n",
    "    accuracy += round(max(counts[i])*100/len(labels_by_clusters[i]),2)\n",
    "accuracy = accuracy/16\n",
    "\n",
    "accuracy_od = 0\n",
    "for i in range(len(most_recurent_label_od)):\n",
    "    accuracy_od += round(max(counts_od[i])*100/len(labels_by_clusters_od[i]),2)\n",
    "accuracy_od = accuracy_od/16\n",
    "\n",
    "print('La précision du k-Médoïde avec distance euclidienne',round(accuracy,2),'%')\n",
    "print('La précision du k-Médoïde avec notre mesure de similarité',round(accuracy_od,2),'%')"
   ]
  },
  {
   "cell_type": "markdown",
   "metadata": {},
   "source": [
    "Avec les résultats que nous obtenons, on peut conclure qu'avec le nombre de données limité, le model avec notre calcul de distance est un peu plus performant qu'avec la distance euclidienne. Bien évidemment, tel est le cas puisque nous avons utilisé le même jeu de données. Si nous utilisons un jeu de donnée différent, les résultats peuvent s'avérer différent. \n",
    "Certainement, avec plus de donnée nous aurions une meilleure comparaison et surtout une meilleure précision de nos models."
   ]
  },
  {
   "cell_type": "markdown",
   "metadata": {},
   "source": [
    "**Partition Binaire**"
   ]
  },
  {
   "cell_type": "markdown",
   "metadata": {},
   "source": [
    "### Hierarchical Clustering (Binary Partition)\n",
    "\n",
    "Dans la section ci-dessous, nous allons appliquer l'algorithme de partition binaire, s'intitulant \"Hierarchical Clustering\" en anglais. Il y a deux types de \"Hierarchical Clustering\": il y a le agglomerative et le decisive. Dans notre cas, nous allons nous préoccuper du agglomerative clustering. De plus, l'algorithme de \"Hierarchical Clustering\" a pour but de \"prédire\" des données non **étiquettés.**<br>\n",
    "Pour commencer, nous allons importer Agglomerative Clustering de sklearn.cluster puisque cette dernière nous aidera à appliquer l'algorithme. <br>\n",
    "Dans l'algorithme de partition binaire, il y a principalement 4 méthodes pour mesurer la distance entre 2 clusters: <br>\n",
    "* Measure the distance between the closes points of two clusters.\n",
    "* Measure the distance between the farthest points of two clusters.\n",
    "* Measure the distance between the centroids of two clusters.\n",
    "* Measure the distance between all possible combination of points between the two clusters and take the mean.\n",
    "<br>\n",
    "(Source: https://stackabuse.com/hierarchical-clustering-with-python-and-scikit-learn/)"
   ]
  },
  {
   "cell_type": "code",
   "execution_count": 15,
   "metadata": {},
   "outputs": [],
   "source": [
    "from sklearn.cluster import AgglomerativeClustering"
   ]
  },
  {
   "cell_type": "markdown",
   "metadata": {},
   "source": [
    "La prochaine étape est de bien préparer nos données. Pour des fins d'utilié, de représentation et pour eviter un Memory Error, nous allons utiliser les 1000 premières données. Nous allons également convertir nos 1000 premières données en array de NumPy de type np.float64."
   ]
  },
  {
   "cell_type": "code",
   "execution_count": 16,
   "metadata": {},
   "outputs": [],
   "source": [
    "agglomerative_clustering_train = np.array(copy.deepcopy(x_train[0:1000])).astype(np.float64)\n",
    "agglomerative_clustering_labels = np.array(copy.deepcopy(labels[0:1000])).astype(np.float64)"
   ]
  },
  {
   "cell_type": "markdown",
   "metadata": {},
   "source": [
    "Imprimons la première donnée de notre agglomerative_clustering_train pour visualiser notre NumPy Array."
   ]
  },
  {
   "cell_type": "code",
   "execution_count": 17,
   "metadata": {},
   "outputs": [
    {
     "name": "stdout",
     "output_type": "stream",
     "text": [
      "[  0.   0.   0.   0.   0.   0.   0.   0.   0.   0.   0.   0.   0.   0.\n",
      "   0.   0.   0.   0.   0.   0.   0.   0.   0.   0.   0.   0.   0.   0.\n",
      "   0.   0.   0.   0.   0.   0.   0.   0.   0.   0.   0.   0.   0.   0.\n",
      "   0.   0.   0.   0.   0.   0.   0.   0.   0.   0.   0.   0.   0.   0.\n",
      "   0.   0.   0.   0.   0.   0.   0.   0.   0.   0.   0.   0.   0.   0.\n",
      "   0.   0.   0.   0.   0.   0.   0.   0.   0.   0.   0.   0.   0.   0.\n",
      "   0.   0.   0.   0.   0.   0.   0.   0.   0.   0.   0.   0.   0.   0.\n",
      "   0.   0.   0.   0.   0.   0.   0.   0.   0.   0.   0.   0.   0.   0.\n",
      "   0.   0.   0.   0.   0.   0.   0.   0.   0.   0.   0.   0.   0.   0.\n",
      "   0.   0.   0.   0.   0.   0.   0.   0.   0.   0.   0.   0.   0.   0.\n",
      "   0.   0.   0.   0.   0.   0.   0.   0.   0.   0.   0.   0.   3.  18.\n",
      "  18.  18. 126. 136. 175.  26. 166. 255. 247. 127.   0.   0.   0.   0.\n",
      "   0.   0.   0.   0.   0.   0.   0.   0.  30.  36.  94. 154. 170. 253.\n",
      " 253. 253. 253. 253. 225. 172. 253. 242. 195.  64.   0.   0.   0.   0.\n",
      "   0.   0.   0.   0.   0.   0.   0.  49. 238. 253. 253. 253. 253. 253.\n",
      " 253. 253. 253. 251.  93.  82.  82.  56.  39.   0.   0.   0.   0.   0.\n",
      "   0.   0.   0.   0.   0.   0.   0.  18. 219. 253. 253. 253. 253. 253.\n",
      " 198. 182. 247. 241.   0.   0.   0.   0.   0.   0.   0.   0.   0.   0.\n",
      "   0.   0.   0.   0.   0.   0.   0.   0.  80. 156. 107. 253. 253. 205.\n",
      "  11.   0.  43. 154.   0.   0.   0.   0.   0.   0.   0.   0.   0.   0.\n",
      "   0.   0.   0.   0.   0.   0.   0.   0.   0.  14.   1. 154. 253.  90.\n",
      "   0.   0.   0.   0.   0.   0.   0.   0.   0.   0.   0.   0.   0.   0.\n",
      "   0.   0.   0.   0.   0.   0.   0.   0.   0.   0.   0. 139. 253. 190.\n",
      "   2.   0.   0.   0.   0.   0.   0.   0.   0.   0.   0.   0.   0.   0.\n",
      "   0.   0.   0.   0.   0.   0.   0.   0.   0.   0.   0.  11. 190. 253.\n",
      "  70.   0.   0.   0.   0.   0.   0.   0.   0.   0.   0.   0.   0.   0.\n",
      "   0.   0.   0.   0.   0.   0.   0.   0.   0.   0.   0.   0.  35. 241.\n",
      " 225. 160. 108.   1.   0.   0.   0.   0.   0.   0.   0.   0.   0.   0.\n",
      "   0.   0.   0.   0.   0.   0.   0.   0.   0.   0.   0.   0.   0.  81.\n",
      " 240. 253. 253. 119.  25.   0.   0.   0.   0.   0.   0.   0.   0.   0.\n",
      "   0.   0.   0.   0.   0.   0.   0.   0.   0.   0.   0.   0.   0.   0.\n",
      "  45. 186. 253. 253. 150.  27.   0.   0.   0.   0.   0.   0.   0.   0.\n",
      "   0.   0.   0.   0.   0.   0.   0.   0.   0.   0.   0.   0.   0.   0.\n",
      "   0.  16.  93. 252. 253. 187.   0.   0.   0.   0.   0.   0.   0.   0.\n",
      "   0.   0.   0.   0.   0.   0.   0.   0.   0.   0.   0.   0.   0.   0.\n",
      "   0.   0.   0. 249. 253. 249.  64.   0.   0.   0.   0.   0.   0.   0.\n",
      "   0.   0.   0.   0.   0.   0.   0.   0.   0.   0.   0.   0.   0.   0.\n",
      "  46. 130. 183. 253. 253. 207.   2.   0.   0.   0.   0.   0.   0.   0.\n",
      "   0.   0.   0.   0.   0.   0.   0.   0.   0.   0.   0.   0.  39. 148.\n",
      " 229. 253. 253. 253. 250. 182.   0.   0.   0.   0.   0.   0.   0.   0.\n",
      "   0.   0.   0.   0.   0.   0.   0.   0.   0.   0.  24. 114. 221. 253.\n",
      " 253. 253. 253. 201.  78.   0.   0.   0.   0.   0.   0.   0.   0.   0.\n",
      "   0.   0.   0.   0.   0.   0.   0.   0.  23.  66. 213. 253. 253. 253.\n",
      " 253. 198.  81.   2.   0.   0.   0.   0.   0.   0.   0.   0.   0.   0.\n",
      "   0.   0.   0.   0.   0.   0.  18. 171. 219. 253. 253. 253. 253. 195.\n",
      "  80.   9.   0.   0.   0.   0.   0.   0.   0.   0.   0.   0.   0.   0.\n",
      "   0.   0.   0.   0.  55. 172. 226. 253. 253. 253. 253. 244. 133.  11.\n",
      "   0.   0.   0.   0.   0.   0.   0.   0.   0.   0.   0.   0.   0.   0.\n",
      "   0.   0.   0.   0. 136. 253. 253. 253. 212. 135. 132.  16.   0.   0.\n",
      "   0.   0.   0.   0.   0.   0.   0.   0.   0.   0.   0.   0.   0.   0.\n",
      "   0.   0.   0.   0.   0.   0.   0.   0.   0.   0.   0.   0.   0.   0.\n",
      "   0.   0.   0.   0.   0.   0.   0.   0.   0.   0.   0.   0.   0.   0.\n",
      "   0.   0.   0.   0.   0.   0.   0.   0.   0.   0.   0.   0.   0.   0.\n",
      "   0.   0.   0.   0.   0.   0.   0.   0.   0.   0.   0.   0.   0.   0.\n",
      "   0.   0.   0.   0.   0.   0.   0.   0.   0.   0.   0.   0.   0.   0.\n",
      "   0.   0.   0.   0.   0.   0.   0.   0.   0.   0.   0.   0.   0.   0.]\n"
     ]
    }
   ],
   "source": [
    "print(agglomerative_clustering_train[0])"
   ]
  },
  {
   "cell_type": "markdown",
   "metadata": {},
   "source": [
    "La prochaine étape est de créer un object hirarchical_clustering en utilisant le constructeur AgglomerativeClustering. Nous allons également appeler fit_predict pour prédire les clusters que les points prendrons part. La méthode fit_predict retournera le cluster que chaque point prend part. Nous utilisons la distance euclidienne.<br>\n",
    "**Prenez note**: Nous utilisons le linkage comme étant ward puisque ce dernier minimise la variance des clusters à fusionner."
   ]
  },
  {
   "cell_type": "code",
   "execution_count": 18,
   "metadata": {},
   "outputs": [],
   "source": [
    "# The Treshold is that every cluster's dissimilarity (inside and amonsgt them) will always be smaller or equal to that cluster\n",
    "# Here our thresh hold is 10 as the number of classes in mnist data set (0, 1, 2, 3, 4, 5, 6, 7, 8, 9)\n",
    "\n",
    "hierarchical_clustering = AgglomerativeClustering(n_clusters=10, affinity='euclidean', linkage='ward') \n",
    "y_hierarchical_clustering = hierarchical_clustering.fit_predict(agglomerative_clustering_train)  "
   ]
  },
  {
   "cell_type": "markdown",
   "metadata": {},
   "source": [
    "Imprimons notre matrice avec les points appartenant à dites cluster."
   ]
  },
  {
   "cell_type": "code",
   "execution_count": 19,
   "metadata": {},
   "outputs": [
    {
     "name": "stdout",
     "output_type": "stream",
     "text": [
      "[4 0 1 3 1 6 9 8 9 1 4 2 4 5 9 7 0 2 4 2 1 0 2 3 4 4 1 8 0 2 1 2 4 2 0 2 5\n",
      " 0 1 5 9 4 1 3 4 1 4 2 4 4 4 0 1 2 1 2 0 1 1 3 1 2 5 0 1 2 5 3 0 0 4 2 9 5\n",
      " 4 0 4 3 3 2 4 0 0 5 1 2 4 1 0 1 5 7 1 5 2 0 1 2 4 3 4 1 9 7 9 3 4 8 0 1 1\n",
      " 4 9 3 0 1 1 4 0 0 0 0 4 7 9 4 4 1 9 5 4 1 4 1 1 8 4 3 4 1 3 2 1 4 4 2 2 5\n",
      " 1 4 1 5 9 2 1 5 0 8 1 4 1 4 1 2 1 5 1 1 3 0 1 4 1 2 9 2 1 3 0 4 3 4 4 1 9\n",
      " 7 4 4 4 4 4 2 0 7 1 2 1 2 4 4 9 3 2 4 5 3 0 4 9 0 0 9 1 6 1 8 0 1 4 2 6 5\n",
      " 1 7 1 2 1 1 1 0 7 9 4 6 0 8 2 1 5 2 4 1 8 7 0 2 0 1 9 0 1 9 4 6 4 8 4 1 1\n",
      " 2 1 5 4 7 1 2 4 1 1 3 9 1 1 2 4 1 9 6 4 8 1 8 1 0 4 1 5 2 1 1 3 8 1 0 1 2\n",
      " 0 1 4 5 4 7 5 0 1 7 0 7 6 3 9 5 4 1 1 3 4 6 4 1 0 8 1 1 1 6 0 8 4 1 4 5 4\n",
      " 4 1 2 1 7 1 6 1 8 1 2 1 3 1 6 4 7 1 3 4 7 1 3 4 3 9 0 4 8 1 1 1 6 9 5 4 1\n",
      " 9 7 1 1 1 6 4 7 4 1 1 6 9 1 1 6 4 7 4 1 4 6 4 2 4 5 4 3 9 0 4 5 1 2 4 8 9\n",
      " 2 9 1 4 7 1 1 5 2 3 2 2 1 1 5 1 1 1 4 1 0 1 0 4 5 0 8 1 0 1 2 1 2 0 1 1 3\n",
      " 9 2 1 3 6 5 9 0 0 0 9 3 4 6 0 4 1 1 0 2 0 5 9 0 1 2 4 2 4 0 4 3 4 6 1 8 4\n",
      " 1 1 0 9 2 4 2 4 0 4 3 3 6 0 8 8 6 4 2 4 2 4 2 4 7 1 3 3 2 3 2 4 2 4 6 0 4\n",
      " 1 0 1 7 1 2 0 2 0 0 5 2 4 1 4 3 4 3 4 2 3 2 4 1 0 2 4 2 4 5 0 2 1 6 4 3 0\n",
      " 6 9 2 4 2 3 2 1 6 1 5 1 7 0 1 0 2 9 3 4 2 1 0 4 2 1 2 0 2 0 1 7 3 3 2 1 6\n",
      " 4 3 4 2 0 5 5 7 1 2 4 0 9 1 1 5 1 3 1 2 0 4 2 2 1 7 9 6 0 2 0 5 1 4 1 2 4\n",
      " 4 4 2 1 0 3 6 1 3 9 0 1 2 6 8 3 4 4 1 3 5 1 7 4 2 1 1 0 6 1 2 4 2 0 1 1 5\n",
      " 0 0 0 0 0 3 5 6 4 8 9 1 9 8 1 5 1 7 0 2 1 1 4 0 4 3 1 4 4 8 4 1 3 8 1 5 0\n",
      " 7 1 2 1 1 4 0 9 3 2 6 4 8 6 1 1 0 1 5 4 7 1 2 4 1 3 1 1 8 4 0 4 5 4 5 9 5\n",
      " 4 1 1 0 1 0 1 3 4 1 1 8 4 7 1 1 4 8 4 5 4 2 4 1 1 3 4 8 4 2 1 8 1 7 6 2 0\n",
      " 2 1 3 9 0 1 3 4 5 1 0 5 8 0 2 0 1 5 7 4 1 1 8 1 4 4 7 1 8 1 4 4 3 4 8 1 4\n",
      " 4 8 5 2 0 7 1 3 3 2 1 0 1 1 1 5 4 2 4 3 1 3 4 8 9 7 4 5 1 2 0 8 4 1 1 0 5\n",
      " 1 5 7 1 1 4 8 4 0 0 8 4 4 3 2 0 8 1 0 9 3 0 6 4 4 4 1 4 2 7 5 1 7 3 2 4 1\n",
      " 1 0 4 3 4 6 1 8 1 1 1 2 1 5 0 0 1 3 1 6 1 8 1 7 4 2 1 2 4 6 3 3 9 2 4 2 4\n",
      " 2 1 0 7 1 1 6 1 1 0 2 1 1 4 5 1 3 7 6 1 1 2 2 3 0 1 3 0 4 7 5 4 0 4 3 4 3\n",
      " 1 2 2 0 4 1 1 7 4 2 4 5 1 8 4 5 9 0 1 7 9 4 0 2 1 1 1 6 1 1 4 3 1 1 4 0 4\n",
      " 5]\n"
     ]
    }
   ],
   "source": [
    "print(hierarchical_clustering.labels_)"
   ]
  },
  {
   "cell_type": "markdown",
   "metadata": {},
   "source": [
    "Maintenant, visualisons notre graphe avec nos données."
   ]
  },
  {
   "cell_type": "code",
   "execution_count": 21,
   "metadata": {},
   "outputs": [
    {
     "name": "stdout",
     "output_type": "stream",
     "text": [
      "If we only assumed that the clusters were the labels to take, by simply using the data, we would misplace 859 out of 1000 labels.\n"
     ]
    }
   ],
   "source": [
    "y_hierarchical_clustering = hierarchical_clustering.labels_\n",
    "# print(len(cluster.labels_)) It's the same as our q_train array\n",
    "labels_hc = labels[0:1000]\n",
    "\n",
    "# The result will be a vector of 1000 entries and were every entry belongs to as certain cluster\n",
    "miss_calculations = 0\n",
    "for i in range(len(y_hierarchical_clustering)):\n",
    "    if not y_hierarchical_clustering[i] == int(agglomerative_clustering_labels[i]):\n",
    "        miss_calculations += 1\n",
    "\n",
    "print(f\"If we only assumed that the clusters were the labels to take, by simply using the data, we would misplace \" \n",
    "      + str(miss_calculations) + \" out of \" + str(1000) + \" labels.\")"
   ]
  },
  {
   "cell_type": "markdown",
   "metadata": {},
   "source": [
    "Nous allons maintenant procéder à utiliser le data set silhouette.csv de la démo 2 puisque l'algorithme échou lamentablement."
   ]
  },
  {
   "cell_type": "markdown",
   "metadata": {},
   "source": [
    "#### Hierarchical Clustering  (Binary Partition) avec silhouette data set\n",
    "Dans la démo 2, nous nous sommes fait présentés le data set silhouette.csv. Ce dernier est en effet les 5000 premières données de MNIST mais ayant subit une réduction de dimensionnalité.<br>\n",
    "La première étape est de charger les données dans un tableau."
   ]
  },
  {
   "cell_type": "code",
   "execution_count": 34,
   "metadata": {},
   "outputs": [],
   "source": [
    "with open('silhouette.csv') as silhouette_data_train:\n",
    "    silhouette_data_train = np.loadtxt('silhouette.csv')"
   ]
  },
  {
   "cell_type": "markdown",
   "metadata": {},
   "source": [
    "Par la suite, puisqu'il n'y a pas de labels dans silhouette.csv, nous allons utiliser les 1000 premièrs étiquettes de notre mnist_train.csv.<br>\n",
    "**Prenez note**: Nous utilisons seulement les 1000 premières données question de ne pas recontrer Memory Error."
   ]
  },
  {
   "cell_type": "code",
   "execution_count": 35,
   "metadata": {},
   "outputs": [],
   "source": [
    "silhouette_labels = copy.deepcopy(labels[0:1000])\n",
    "silhouette_data_train = copy.deepcopy(silhouette_data_train[0:1000])"
   ]
  },
  {
   "cell_type": "markdown",
   "metadata": {},
   "source": [
    "Ci-dessous, nous avons simplement représenté nos 1000 premières données de silhouette_data_train dans un graphique. Puisque nous avons charger un data set de 2 dimensions, il se prouve facile de représenter les données dans un graphe conventinnel x,y."
   ]
  },
  {
   "cell_type": "markdown",
   "metadata": {},
   "source": [
    "(La cellule ci-dessous est fortement inspirée de la démo 2)"
   ]
  },
  {
   "cell_type": "code",
   "execution_count": 36,
   "metadata": {},
   "outputs": [
    {
     "data": {
      "text/plain": [
       "<matplotlib.collections.PathCollection at 0xc9b3b0>"
      ]
     },
     "execution_count": 36,
     "metadata": {},
     "output_type": "execute_result"
    },
    {
     "data": {
      "image/png": "[encoded data removed]",
      "text/plain": [
       "<Figure size 432x288 with 1 Axes>"
      ]
     },
     "metadata": {
      "needs_background": "light"
     },
     "output_type": "display_data"
    }
   ],
   "source": [
    "y_pred = AgglomerativeClustering(n_clusters=10, affinity='euclidean', linkage='ward').fit_predict(silhouette_data_train)\n",
    "plt.scatter(silhouette_data_train[:,0], silhouette_data_train[:,1], c=y_pred)"
   ]
  },
  {
   "cell_type": "markdown",
   "metadata": {},
   "source": [
    "Maintenant, nous allons utiliser la librairie SciPy pour créer un dendrogramme.<br>\n",
    "Il est utile de créer un dendogramme pour savoir combien de cluster sont en réalité nécessaire. Bien que nous sommes familier avec MNIST et que nous sachions qu'il y aura 10 clusters, il faut tout de même le représenter en dendrogramme. Pour une utilisation future avec des données qui ne sont pas familières, il se vaut utile.<br>\n",
    "Comme d'habitude, la première étape est de charger les librairies nécessaire."
   ]
  },
  {
   "cell_type": "code",
   "execution_count": 37,
   "metadata": {},
   "outputs": [],
   "source": [
    "from scipy.cluster.hierarchy import dendrogram, linkage\n",
    "import sklearn.metrics as sm"
   ]
  },
  {
   "cell_type": "markdown",
   "metadata": {},
   "source": [
    "Maintenant que nous avons nos imports, nous allons créer notre dendrogramme pour trouver le bon \"threshold\".<br>\n",
    "**Threshold**: Le threshold se réfère à la dissimilarité entre les clusters. Ça va toujours être plus petit ou égal au nomtre de clusters."
   ]
  },
  {
   "cell_type": "code",
   "execution_count": 38,
   "metadata": {},
   "outputs": [],
   "source": [
    "for i, value in enumerate(silhouette_data_train): \n",
    "    for j, value in enumerate(silhouette_data_train[i]):\n",
    "        silhouette_data_train[i][j] = float(silhouette_data_train[i][j])"
   ]
  },
  {
   "cell_type": "markdown",
   "metadata": {},
   "source": [
    "En premier temps, nous allons créer le linkage entre nos données et les 'ward'."
   ]
  },
  {
   "cell_type": "code",
   "execution_count": 39,
   "metadata": {},
   "outputs": [],
   "source": [
    "Z = linkage(silhouette_data_train, 'ward')"
   ]
  },
  {
   "cell_type": "markdown",
   "metadata": {},
   "source": [
    "Créeons le dendrogramme maintenant!<br>\n",
    "Pour de fin de visualisation et pour rendre le dendrogramme plus conviviable, nous allons créer un *Truncated Hierarchical Clustering Dendrogram*.<br>\n",
    "De plus, comme mentionnée plus haut, nous devons mettre un threshold à un certain niveau pour savoir exactement le nombre de clusters à mettre. Pour le threshold, il faut prendre la distance verticale la plus haute sans couper une ligne horizontale. La distance est aux alentours de y = 200. Cela va créer 10 clusters."
   ]
  },
  {
   "cell_type": "code",
   "execution_count": 40,
   "metadata": {},
   "outputs": [
    {
     "data": {
      "image/png": "[encoded data removed]",
      "text/plain": [
       "<Figure size 432x288 with 1 Axes>"
      ]
     },
     "metadata": {
      "needs_background": "light"
     },
     "output_type": "display_data"
    }
   ],
   "source": [
    "dendrogram(Z, truncate_mode='lastp', p=10, leaf_rotation=45., leaf_font_size=12., show_contracted=True)\n",
    "plt.title(\"Truncated Hierarchical Clustering Dendrogram\")\n",
    "plt.xlabel('Cluster Size')\n",
    "plt.ylabel('Distance')\n",
    "\n",
    "plt.axhline(y=200)\n",
    "\n",
    "plt.show()"
   ]
  },
  {
   "cell_type": "markdown",
   "metadata": {},
   "source": [
    "Exactement ce que nous avions estimé plus haut, nous devons utiliser 10 clusters."
   ]
  },
  {
   "cell_type": "markdown",
   "metadata": {},
   "source": [
    "Convertir les labels en int pour pouvoir utiliser accurary_score venant de sklearn.metrics."
   ]
  },
  {
   "cell_type": "code",
   "execution_count": 41,
   "metadata": {},
   "outputs": [],
   "source": [
    "for i in range(len(silhouette_labels)):\n",
    "    silhouette_labels[i] = int(silhouette_labels[i])"
   ]
  },
  {
   "cell_type": "code",
   "execution_count": 81,
   "metadata": {},
   "outputs": [
    {
     "name": "stdout",
     "output_type": "stream",
     "text": [
      "Le score de notre Hierarchical Clustering avec la distance euclidienne est de : 23.1 %.\n"
     ]
    }
   ],
   "source": [
    "Hclustering = AgglomerativeClustering(n_clusters=10, affinity='euclidean', linkage='ward')\n",
    "Hclustering.fit(silhouette_data_train)\n",
    "\n",
    "print(\"Le score de notre Hierarchical Clustering avec la distance euclidienne est de : \" \n",
    "     + str(sm.accuracy_score(silhouette_labels, Hclustering.labels_) * 100)\n",
    "     + \" %.\")"
   ]
  },
  {
   "cell_type": "markdown",
   "metadata": {},
   "source": [
    "Comparons maintenant avec plusieurs différents linkage types."
   ]
  },
  {
   "cell_type": "code",
   "execution_count": 43,
   "metadata": {},
   "outputs": [
    {
     "name": "stdout",
     "output_type": "stream",
     "text": [
      "Accuracy score for complete linkage : 13.8  %.\n",
      "Accuracy score for average linkage : 5.8999999999999995  %.\n",
      "Accuracy score for single linkage : 5.1 %.\n"
     ]
    }
   ],
   "source": [
    "# linkage -> complete\n",
    "Hclustering = AgglomerativeClustering(n_clusters=10, affinity='euclidean', linkage='complete')\n",
    "Hclustering.fit(silhouette_data_train)\n",
    "\n",
    "print(f\"Accuracy score for complete linkage : {str(sm.accuracy_score(silhouette_labels, Hclustering.labels_) * 100)}  %.\")\n",
    "\n",
    "# linkage -> average \n",
    "Hclustering = AgglomerativeClustering(n_clusters=10, affinity='euclidean', linkage='average')\n",
    "Hclustering.fit(silhouette_data_train)\n",
    "\n",
    "print(f\"Accuracy score for average linkage : {str(sm.accuracy_score(silhouette_labels, Hclustering.labels_) * 100)}  %.\")\n",
    "\n",
    "# linkage -> single\n",
    "Hclustering = AgglomerativeClustering(n_clusters=10, affinity='euclidean', linkage='single')\n",
    "Hclustering.fit(silhouette_data_train)\n",
    "\n",
    "print(f\"Accuracy score for single linkage : {str(sm.accuracy_score(silhouette_labels, Hclustering.labels_) * 100)} %.\")"
   ]
  },
  {
   "cell_type": "markdown",
   "metadata": {},
   "source": [
    "Procédons maintenant à appliquer l'algorithme de *Hierarchical Clustering* à notre mesure de similarité. En premier temps, charger les données (nous faisions simplement un deepcopy de nos données plus haut)."
   ]
  },
  {
   "cell_type": "code",
   "execution_count": 44,
   "metadata": {},
   "outputs": [],
   "source": [
    "edition_hierarchical_clustering_data_train = copy.deepcopy(edition_train)\n",
    "edition_hierarchical_clustering_data_label = copy.deepcopy(labels[0:1000])\n",
    "edition_hierarchical_clustering_data_train = np.array(edition_hierarchical_clustering_data_train).astype(np.float64)\n",
    "edition_hierarchical_clustering_data_label = np.array(edition_hierarchical_clustering_data_label).astype(np.float64)"
   ]
  },
  {
   "cell_type": "markdown",
   "metadata": {},
   "source": [
    "Comparons maintenant avec plusieurs différents linkage types."
   ]
  },
  {
   "cell_type": "code",
   "execution_count": 45,
   "metadata": {},
   "outputs": [
    {
     "name": "stdout",
     "output_type": "stream",
     "text": [
      "Accuracy score for complete linkage (with our notion of similarity) : 3.6999999999999997  %.\n",
      "Accuracy score for average linkage (with our notion of similarity) : 10.7  %.\n",
      "Accuracy score for single linkage (with our notion of similarity) : 9.8  %.\n"
     ]
    }
   ],
   "source": [
    "# linkage -> complete\n",
    "edition_hirarchical_clustering_classifier = AgglomerativeClustering(n_clusters=10, affinity='precomputed', linkage='complete')\n",
    "edition_hirarchical_clustering_classifier.fit(edition_hierarchical_clustering_data_train)\n",
    "\n",
    "print(f\"Accuracy score for complete linkage (with our notion of similarity) : {str(sm.accuracy_score(edition_hierarchical_clustering_data_label, edition_hirarchical_clustering_classifier.labels_) * 100)}  %.\")\n",
    "\n",
    "# linkage -> average\n",
    "edition_hirarchical_clustering_classifier = AgglomerativeClustering(n_clusters=10, affinity='precomputed', linkage='average')\n",
    "edition_hirarchical_clustering_classifier.fit(edition_hierarchical_clustering_data_train)\n",
    "\n",
    "print(f\"Accuracy score for average linkage (with our notion of similarity) : {str(sm.accuracy_score(edition_hierarchical_clustering_data_label, edition_hirarchical_clustering_classifier.labels_) * 100)}  %.\")\n",
    "\n",
    "# linkage -> single\n",
    "edition_hirarchical_clustering_classifier = AgglomerativeClustering(n_clusters=10, affinity='precomputed', linkage='single')\n",
    "edition_hirarchical_clustering_classifier.fit(edition_hierarchical_clustering_data_train)\n",
    "\n",
    "print(f\"Accuracy score for single linkage (with our notion of similarity) : {str(sm.accuracy_score(edition_hierarchical_clustering_data_label, edition_hirarchical_clustering_classifier.labels_) * 100)}  %.\")\n"
   ]
  },
  {
   "cell_type": "code",
   "execution_count": 46,
   "metadata": {},
   "outputs": [],
   "source": [
    "# TODO -> conclusion"
   ]
  },
  {
   "cell_type": "markdown",
   "metadata": {},
   "source": [
    "**PCoA**"
   ]
  },
  {
   "cell_type": "markdown",
   "metadata": {},
   "source": [
    "Comme d'habitude, nous devons importer la librairie nécessaire."
   ]
  },
  {
   "cell_type": "code",
   "execution_count": 47,
   "metadata": {},
   "outputs": [],
   "source": [
    "from sklearn.manifold import MDS"
   ]
  },
  {
   "cell_type": "markdown",
   "metadata": {},
   "source": [
    "PCoA sur notre distance euclidienne calculée précédement."
   ]
  },
  {
   "cell_type": "code",
   "execution_count": 48,
   "metadata": {},
   "outputs": [],
   "source": [
    "mds = MDS(dissimilarity='precomputed')\n",
    "positions_euclidean = mds.fit(euclidean_train)"
   ]
  },
  {
   "cell_type": "markdown",
   "metadata": {},
   "source": [
    "PCoA sur notre distance d'édition."
   ]
  },
  {
   "cell_type": "code",
   "execution_count": 49,
   "metadata": {},
   "outputs": [],
   "source": [
    "mds_edition = MDS(dissimilarity='precomputed')\n",
    "positions_custom = mds_edition.fit(edition_train)"
   ]
  },
  {
   "cell_type": "markdown",
   "metadata": {},
   "source": [
    "PCoA sur la distance euclidienne calculée par la librairie."
   ]
  },
  {
   "cell_type": "code",
   "execution_count": 50,
   "metadata": {},
   "outputs": [],
   "source": [
    "mds_euclidean = MDS()\n",
    "position_euclidiean_mds = mds_euclidean.fit(q_train)"
   ]
  },
  {
   "cell_type": "markdown",
   "metadata": {},
   "source": [
    "Extraction des composantes pour tracer les figures."
   ]
  },
  {
   "cell_type": "code",
   "execution_count": 51,
   "metadata": {},
   "outputs": [],
   "source": [
    "positions_e = positions_euclidean.embedding_\n",
    "positions_c = positions_custom.embedding_\n",
    "position_e_mds = position_euclidiean_mds.embedding_"
   ]
  },
  {
   "cell_type": "markdown",
   "metadata": {},
   "source": [
    "Figure 1 - Résultats avec la distance d'édition"
   ]
  },
  {
   "cell_type": "code",
   "execution_count": 52,
   "metadata": {},
   "outputs": [
    {
     "data": {
      "image/png": "[encoded data removed]",
      "text/plain": [
       "<Figure size 432x288 with 1 Axes>"
      ]
     },
     "metadata": {
      "needs_background": "light"
     },
     "output_type": "display_data"
    }
   ],
   "source": [
    "fig = plt.figure(1)\n",
    "plt.scatter(positions_c[:, 0], positions_c[:, 1], color='darkorange', s=5, label='Distance Edition Personalisée')\n",
    "plt.show()"
   ]
  },
  {
   "cell_type": "markdown",
   "metadata": {},
   "source": [
    "Figure 2 - Résultats avec la distance euclidienne"
   ]
  },
  {
   "cell_type": "code",
   "execution_count": 53,
   "metadata": {},
   "outputs": [
    {
     "data": {
      "image/png": "[encoded data removed]",
      "text/plain": [
       "<Figure size 432x288 with 1 Axes>"
      ]
     },
     "metadata": {
      "needs_background": "light"
     },
     "output_type": "display_data"
    }
   ],
   "source": [
    "fig = plt.figure(4)\n",
    "plt.scatter(positions_e[:, 0], positions_e[:, 1], color='turquoise', s=5, label='Distance Euclidienne')\n",
    "plt.show()"
   ]
  },
  {
   "cell_type": "markdown",
   "metadata": {},
   "source": [
    "Figure 3 - Résultats avec la distance euclidienne de la librairie"
   ]
  },
  {
   "cell_type": "code",
   "execution_count": 54,
   "metadata": {},
   "outputs": [
    {
     "data": {
      "image/png": "[encoded data removed]",
      "text/plain": [
       "<Figure size 432x288 with 1 Axes>"
      ]
     },
     "metadata": {
      "needs_background": "light"
     },
     "output_type": "display_data"
    }
   ],
   "source": [
    "fig = plt.figure(5)\n",
    "plt.scatter(position_e_mds[:, 0], position_e_mds[:, 1], color='blue', s=5, label='Distance Euclidienne MDS')\n",
    "plt.show()"
   ]
  },
  {
   "cell_type": "markdown",
   "metadata": {},
   "source": [
    "Les résultats sont malheureusement décevant pour PCoA avec une distance euclidienne tout comme avec notre notion de similarité. Presque aucun regroupement n’est obtenu. Même en essayant avec un échantillon de données plus grand (4000, il est difficile d’aller plus haut avec le hardware limité de nos machines) les résultats sont les mêmes.\n",
    "\n",
    "Il est difficile de comparer la performance des deux méthodes avec les résultats actuels, tout ce que nous pouvons en conclure c’est que toutes les deux offrent un faible regroupement. Avec un échantillon de données plus grand il serait peut-être possible d’obtenir des regroupements (clusters) plus satisfaisants, mais pour le moment les deux distances (euclidienne et notre notion de similarité) offrent des résultats tout aussi faibles."
   ]
  },
  {
   "cell_type": "markdown",
   "metadata": {},
   "source": [
    "**IsoMap**"
   ]
  },
  {
   "cell_type": "markdown",
   "metadata": {},
   "source": [
    "Comme d'habitude, nous devons importer la librairie nécessaire."
   ]
  },
  {
   "cell_type": "code",
   "execution_count": 55,
   "metadata": {},
   "outputs": [],
   "source": [
    "from sklearn.manifold import Isomap"
   ]
  },
  {
   "cell_type": "markdown",
   "metadata": {},
   "source": [
    "On commence par appliquer la méthode Isomap sur la distance euclidienne. La librairie utilisée calcule elle-même la matrice de distance euclidienne (tout comme pour PCoA)."
   ]
  },
  {
   "cell_type": "code",
   "execution_count": 58,
   "metadata": {},
   "outputs": [
    {
     "data": {
      "image/png": "[encoded data removed]",
      "text/plain": [
       "<Figure size 432x288 with 1 Axes>"
      ]
     },
     "metadata": {
      "needs_background": "light"
     },
     "output_type": "display_data"
    }
   ],
   "source": [
    "isomap_euclidean = Isomap(n_neighbors=5, n_components=2)\n",
    "isomap_euclidean_result = isomap_euclidean.fit(q_train)\n",
    "isomap_euclidean_positions = isomap_euclidean_result.embedding_\n",
    "\n",
    "fig = plt.figure(1)\n",
    "plt.scatter(isomap_euclidean_positions[:, 0], isomap_euclidean_positions[:, 1], color='darkorange', s=5, label='Isomap Distance Euclidienne')\n",
    "plt.show()"
   ]
  },
  {
   "cell_type": "markdown",
   "metadata": {},
   "source": [
    "La librairie utilisée pour appliquer l'algorithme IsoMap ne nous permet pas d'utiliser une matrice de dissimilarité \"precomputed\" comme pour toutes les autres méthodes. Par conséquent nous n'avons malheureusement pas réussi a utiliser notre propre notion de similarité sur cet algorithme."
   ]
  },
  {
   "cell_type": "markdown",
   "metadata": {},
   "source": [
    "**KNN**"
   ]
  },
  {
   "cell_type": "markdown",
   "metadata": {},
   "source": [
    "Steps taken for KNN algorithm:\n",
    "1. Choose the number K of neighbors.\n",
    "2. Take the K nearest neighbors of the new data point, according to the Euclidean distance.\n",
    "3. Among those K neighbors, count the number of data points in each category.\n",
    "4. Assign the new data point to the category where you counted the most neightbors."
   ]
  },
  {
   "cell_type": "markdown",
   "metadata": {},
   "source": [
    "Comme d'habitude, nous devons importer les librairies nécessaires. Nous importons KNeighborsClassifier de sklearn pour créer notre classifieur et confusion_matrix (vous verrez pourquoi ;))<br>\n",
    "Nous importons également la librairie copy pour faire un deepcopy. On ne veut pas juste pointer au même objet."
   ]
  },
  {
   "cell_type": "code",
   "execution_count": 59,
   "metadata": {},
   "outputs": [],
   "source": [
    "from sklearn.neighbors import KNeighborsClassifier\n",
    "from sklearn.metrics import confusion_matrix"
   ]
  },
  {
   "cell_type": "markdown",
   "metadata": {},
   "source": [
    "En premier lieu, nous allons utiliser le jeu de donnée silhouette pour notre modèle K-NN. Rappelons nous que silhouette.csv\n",
    "est en fait les 5000 premières données de MNIST ayant subi une réduction de dimensionnalité."
   ]
  },
  {
   "cell_type": "code",
   "execution_count": 60,
   "metadata": {},
   "outputs": [],
   "source": [
    "knn_silhouette_train = copy.deepcopy(silhouette_data_train)\n",
    "knn_silhouette_train_labels = copy.deepcopy(silhouette_labels)"
   ]
  },
  {
   "cell_type": "markdown",
   "metadata": {},
   "source": [
    "Nous allons maintenant procéder à créer notre classifeur de K-NN. <br> (https://scikit-learn.org/stable/modules/generated/sklearn.neighbors.KNeighborsClassifier.html) <br>\n",
    "En regardant, la documentation de sklearn.neighbors.KNeighborsClassifier nous pouvons voir que le constructeur KNeighborsClassifer prend plusieurs arguments en entrée. Les plus importants sont n_neighbors (le nombre de voisins), p et metric (lorsque metric prend la valeur de 'minkowski', si p=1 le constructeur utilisera la mesure de similarité Manhattan et lors que p=2 le constructeur utilisera la mesure de similarité Euclidean)."
   ]
  },
  {
   "cell_type": "code",
   "execution_count": 61,
   "metadata": {},
   "outputs": [
    {
     "data": {
      "text/plain": [
       "KNeighborsClassifier(algorithm='auto', leaf_size=30, metric='minkowski',\n",
       "           metric_params=None, n_jobs=None, n_neighbors=5, p=2,\n",
       "           weights='uniform')"
      ]
     },
     "execution_count": 61,
     "metadata": {},
     "output_type": "execute_result"
    }
   ],
   "source": [
    "silhouette_classifier = KNeighborsClassifier(n_neighbors=5, p=2, metric='minkowski')\n",
    "silhouette_classifier.fit(knn_silhouette_train, knn_silhouette_train_labels)"
   ]
  },
  {
   "cell_type": "code",
   "execution_count": 82,
   "metadata": {},
   "outputs": [
    {
     "name": "stdout",
     "output_type": "stream",
     "text": [
      "Le score de notre silhouette classifeur avec la distance euclidienne est de : 96.7 %.\n"
     ]
    }
   ],
   "source": [
    "print(\"Le score de notre silhouette classifeur avec la distance euclidienne est de : \" \n",
    "      + str(silhouette_classifier.score(knn_silhouette_train, knn_silhouette_train_labels) * 100) \n",
    "      + \" %.\")\n"
   ]
  },
  {
   "cell_type": "markdown",
   "metadata": {},
   "source": [
    "Même si nous avons un excellent résultant (96.7%), essayons maintenant de trouver un **k** permettant d'améliorer ce résultat. "
   ]
  },
  {
   "cell_type": "code",
   "execution_count": 63,
   "metadata": {},
   "outputs": [],
   "source": [
    "score_train = []\n",
    "for k in np.arange(1, 50):\n",
    "    clf = KNeighborsClassifier(n_neighbors=k, p=2, metric='minkowski')\n",
    "    clf.fit(knn_silhouette_train, knn_silhouette_train_labels)\n",
    "    score_train.append(clf.score(knn_silhouette_train, knn_silhouette_train_labels))"
   ]
  },
  {
   "cell_type": "code",
   "execution_count": 64,
   "metadata": {},
   "outputs": [
    {
     "data": {
      "text/plain": [
       "[<matplotlib.lines.Line2D at 0x50eec390>]"
      ]
     },
     "execution_count": 64,
     "metadata": {},
     "output_type": "execute_result"
    },
    {
     "data": {
      "image/png": "[encoded data removed]",
      "text/plain": [
       "<Figure size 432x288 with 1 Axes>"
      ]
     },
     "metadata": {
      "needs_background": "light"
     },
     "output_type": "display_data"
    }
   ],
   "source": [
    "plt.plot(np.arange(1, 50), score_train, color='red')"
   ]
  },
  {
   "cell_type": "markdown",
   "metadata": {},
   "source": [
    "Comme on peut voir, K-NN est très performant avec le jeu de donnée silhouette.csv. Plus on augmente le nombre de voisins *k*, la performance de l'algorithme diminue tranquillement. Il reste toutefois, un taux de succès à plus de 90 %."
   ]
  },
  {
   "cell_type": "markdown",
   "metadata": {},
   "source": [
    "Malheureusement, nous avons beau avoir un aussi bon résultat, il n'y a pas de manière pour tester notre classifieur de silhouette, puisque nous avons seulement un training set et non un test set. De plus nous ne pouvons pas utiliser le test set de MNIST_test.csv puisque ce ne sont pas les mêmes dimensions de données."
   ]
  },
  {
   "cell_type": "markdown",
   "metadata": {},
   "source": [
    "Nous devons prendre un autre chemin !"
   ]
  },
  {
   "cell_type": "markdown",
   "metadata": {},
   "source": [
    "Pour palier à noter classifieur plus haut, nous allons créer un classifieur avec les données de MNIST_train.csv. Nous commençons par charger le jeu de données mnist_train.csv dans une nouvelle variable. Comme d'habitude, nous allons seulement utiliser les 1000 premières données question d'éviter un Memory Error. <br>\n",
    "**Prenez note**: Nous convertissons nos données d'entrainements et les labels respectifs à des NumPy array de type float64. "
   ]
  },
  {
   "cell_type": "code",
   "execution_count": 70,
   "metadata": {},
   "outputs": [],
   "source": [
    "knn_mnist_data_train = copy.deepcopy(x_train[0:1000])\n",
    "knn_mnist_data_labels = copy.deepcopy(labels[0:1000])\n",
    "knn_mnist_data_train = np.array(knn_mnist_data_train).astype(np.float64)\n",
    "knn_mnist_data_labels = np.array(knn_mnist_data_labels).astype(np.float64)"
   ]
  },
  {
   "cell_type": "markdown",
   "metadata": {},
   "source": [
    "Procédons de manière similaire à créer notre classifieur en utilisant le data set MNIST_train.csv."
   ]
  },
  {
   "cell_type": "code",
   "execution_count": 71,
   "metadata": {},
   "outputs": [
    {
     "data": {
      "text/plain": [
       "KNeighborsClassifier(algorithm='auto', leaf_size=30, metric='minkowski',\n",
       "           metric_params=None, n_jobs=None, n_neighbors=5, p=2,\n",
       "           weights='uniform')"
      ]
     },
     "execution_count": 71,
     "metadata": {},
     "output_type": "execute_result"
    }
   ],
   "source": [
    "mnist_classifier = KNeighborsClassifier(n_neighbors=5, p=2, metric='minkowski')\n",
    "mnist_classifier.fit(knn_mnist_data_train, knn_mnist_data_labels)"
   ]
  },
  {
   "cell_type": "code",
   "execution_count": 83,
   "metadata": {},
   "outputs": [
    {
     "name": "stdout",
     "output_type": "stream",
     "text": [
      "Le score de notre K-NN classifeur avec la distance euclidienne est de : 90.8 %.\n"
     ]
    }
   ],
   "source": [
    "print(\"Le score de notre K-NN classifeur avec la distance euclidienne est de : \" \n",
    "      + str(mnist_classifier.score(knn_mnist_data_train, knn_mnist_data_labels) * 100)\n",
    "      + \" %.\")"
   ]
  },
  {
   "cell_type": "markdown",
   "metadata": {},
   "source": [
    "Même si nous avons un bon résultant (90.8%), essayons maintenant de trouver un **k** permettant d'améliorer ce résultat. "
   ]
  },
  {
   "cell_type": "code",
   "execution_count": 73,
   "metadata": {},
   "outputs": [],
   "source": [
    "score_train = []\n",
    "for k in np.arange(1, 50):\n",
    "    clf = KNeighborsClassifier(n_neighbors=k, p=2, metric='minkowski')\n",
    "    clf.fit(knn_mnist_data_train, knn_mnist_data_labels)\n",
    "    score_train.append(clf.score(knn_mnist_data_train, knn_mnist_data_labels))"
   ]
  },
  {
   "cell_type": "code",
   "execution_count": 69,
   "metadata": {},
   "outputs": [
    {
     "data": {
      "text/plain": [
       "[<matplotlib.lines.Line2D at 0x50f24e90>]"
      ]
     },
     "execution_count": 69,
     "metadata": {},
     "output_type": "execute_result"
    },
    {
     "data": {
      "image/png": "[encoded data removed]",
      "text/plain": [
       "<Figure size 432x288 with 1 Axes>"
      ]
     },
     "metadata": {
      "needs_background": "light"
     },
     "output_type": "display_data"
    }
   ],
   "source": [
    "plt.plot(np.arange(1, 50), score_train, color='red')"
   ]
  },
  {
   "cell_type": "markdown",
   "metadata": {},
   "source": [
    "On peut voir que l'algorithme K-NN est performant lorsque le nombre de voisins n'est pas trop grand. Bien évidemment, il n'y a pas de chiffre magique (nos sommes en statistics, alors tout dépend du use case), mais on peut toutefois faire un hypothèse qu'un k de 5 est un \"bon\" k."
   ]
  },
  {
   "cell_type": "markdown",
   "metadata": {},
   "source": [
    "Maintenant, testons notre classifieur avec des données de tests!"
   ]
  },
  {
   "cell_type": "code",
   "execution_count": 76,
   "metadata": {},
   "outputs": [],
   "source": [
    "knn_mnist_data_test = copy.deepcopy(x_test[0:150])\n",
    "knn_mnist_data_labels_test = copy.deepcopy(labels_test[0:150])\n",
    "knn_mnist_data_test = np.array(knn_mnist_data_test).astype(np.float64)\n",
    "knn_mnist_data_labels_test = np.array(knn_mnist_data_labels_test).astype(np.float64)"
   ]
  },
  {
   "cell_type": "code",
   "execution_count": 77,
   "metadata": {},
   "outputs": [
    {
     "name": "stdout",
     "output_type": "stream",
     "text": [
      "Le score de notre K-NN classifeur (avec les données test) est de : 88.0 %.\n"
     ]
    }
   ],
   "source": [
    "print(\"Le score de notre K-NN classifeur (avec les données test) est de : \" \n",
    "      + str(mnist_classifier.score(knn_mnist_data_test, knn_mnist_data_labels_test) * 100)\n",
    "      + \" %.\")"
   ]
  },
  {
   "cell_type": "markdown",
   "metadata": {},
   "source": [
    "En classe nous avons appris qu'en général nous devons entrainer avec 85% de nos données et de tester avec 15%. Ici nous testons donc notre algorithme avec 15% de données.<br>\n",
    "En comparaison des données d'entrainement et les données de test, nous passons de 90.8 % à 88.0 %. Il y a une certaine \"perte\" de performance. Mais avec plus d'entrainement on pourrait avoir de meilleurs résultats !"
   ]
  },
  {
   "cell_type": "markdown",
   "metadata": {},
   "source": [
    "**KNN (Avec notre mesure de similarité)**"
   ]
  },
  {
   "cell_type": "markdown",
   "metadata": {},
   "source": [
    "Nous allons appliquer les mêmes étapes que celles dénotées plus haut. "
   ]
  },
  {
   "cell_type": "code",
   "execution_count": 78,
   "metadata": {},
   "outputs": [],
   "source": [
    "edition_data_train = copy.deepcopy(edition_train)\n",
    "edition_data_labels = copy.deepcopy(labels[0:1000])\n",
    "edition_data_train = np.array(edition_data_train).astype(np.float64)\n",
    "edition_data_labels = np.array(edition_data_labels).astype(np.float64)"
   ]
  },
  {
   "cell_type": "code",
   "execution_count": 79,
   "metadata": {},
   "outputs": [
    {
     "data": {
      "text/plain": [
       "KNeighborsClassifier(algorithm='auto', leaf_size=30, metric='precomputed',\n",
       "           metric_params=None, n_jobs=None, n_neighbors=5, p=2,\n",
       "           weights='uniform')"
      ]
     },
     "execution_count": 79,
     "metadata": {},
     "output_type": "execute_result"
    }
   ],
   "source": [
    "edition_classifier = KNeighborsClassifier(n_neighbors=5, metric='precomputed')\n",
    "edition_classifier.fit(edition_data_train, edition_data_labels)"
   ]
  },
  {
   "cell_type": "code",
   "execution_count": 80,
   "metadata": {},
   "outputs": [
    {
     "name": "stdout",
     "output_type": "stream",
     "text": [
      "Le score de notre K-NN classifeur (avec notre mesure de similarité) est de : 90.4 %.\n"
     ]
    }
   ],
   "source": [
    "print(\"Le score de notre K-NN classifeur (avec notre mesure de similarité) est de : \" \n",
    "      + str(edition_classifier.score(edition_data_train, edition_data_labels) * 100)\n",
    "      + \" %.\")"
   ]
  },
  {
   "cell_type": "markdown",
   "metadata": {},
   "source": [
    "En conclusion, nous avons pas eu une amélioration comparativement à la méthode de similarité d'euclidienne. Comme vous pouvez voir, le classifieur de mnist_classifier nous donne un taux de succès de 90.8 % et notre classifieur de edition_classifier nous donne un taux de succès de 90.4%. Comme de fait, notre mesure de similarité n'est pas plus performante, en fait elle est 0.4% moins performante avec le même data set. On ne peut pas conclure directement que notre mesure n'est pas moins performante. Idéalement il faudrait utiliser un data set plus gros et cela nous permettra d'avoir un meilleur jeu d'entrainement. "
   ]
  },
  {
   "cell_type": "markdown",
   "metadata": {},
   "source": [
    "## Conclusion"
   ]
  },
  {
   "cell_type": "markdown",
   "metadata": {},
   "source": [
    "En somme, notre mesure de similarité n’apporte pas grand choses par rapport à la distance euclidienne. <br><br>\n",
    "En ce qui concerne l'algorithme k-médoïde, la précision avec la distance euclidienne est de 58.18 % et la précision avec notre mesure de similarité est de 59.84 %. On peut voir qu'il y a une légère augmentation de performance, mais comme nous avons utilisé un data set réduit de mnist_train.csv, nous ne pouvons pas tirer une conclusion définitive. Il est probable que si nous choississons d'utilisé un jeu de données différent (toute chose égale) il se peut que la précision change en faveur de la distance euclidienne. <br><br>\n",
    "Par la suite, avec l'algorithme de partion binaire, puisqu'il y a différentes précisions obtenues nous allons toutes les comparer. Si nous regardons le linkage *ward* avec la distance euclidienne, nous obtenons une précision de 23.10 %. Pour le linkage *complete* avec la distance euclidienne, nous obtenons une précision de 13.8 %. Si nous regardons le linkage *average* avec la distance euclidienne, nous obtenons une précision de 5.90 %, alors qu'avec le linkage *single* avec la distance euclidienne, nous obtenons une précision de 5.1%. En comparaison avec notre mesure de similarité, pour laquelle nous avons respectivement (sauf le linkage *ward*) 3.70 %, 10.70 % et 9.80 %. Comme on peut voir, les résultats entre les deux mesures de similarités/distances sont très proches l'unes de l'autres. Le meilleur résultat est de 23.1 %, qui n'est pas très performant. Pour comparer les 3 autres mesures, il y a quelques unes qui sont plus performantes pour la distance euclidienne et d'autres qui sont plus performantes, mais elles restent toutes en-dessous du 20.0 %. Par défaut, euclidienne l'emporte même si c'est avec un taux de précision très faible. <br><br>\n",
    "Avec PCoA il est difficile de comparer la performance entre la distance euclidienne et notre notion de similarité, car nos résultats sont faibles pour les deux méthodes. Presque aucun cluster n'a été observé, on ne peut donc qu'en conclure que toutes les deux sont peu performantes dans ce cas. <br><br>\n",
    "Puisque nous n'avons pas réussi à implémenter IsoMap, nous ne pouvons malheureusement pas tirer de conclusion. <br><br>\n",
    "Finalement, concernant l'algorithme K-NN, la précision de l'algorithme avec la distance euclidienne est de 90.80 % et avec un taux de succès de 88.00 % si nous testons avec les 1000 premières données de mnist_test.csv. Comme on peut voir la distance euclidienne est performante pour le jeu de donnée mnist. En utilisant notre mesure de similarité, nous obtenons un taux de précision de 90.40 % qui est très proche du 90.80 % de la distance euclidienne. Comme de fait, notre mesure de similarité n'est pas plus performante, en fait elle est 0.4% moins performante avec le même data set. On ne peut pas conclure directement que notre mesure n'est pas moins performante. Idéalement il faudrait utiliser un data set plus gros et cela nous permettra d'avoir un meilleur jeu d'entrainement.\n"
   ]
  }
 ],
 "metadata": {
  "kernelspec": {
   "display_name": "Python 3",
   "language": "python",
   "name": "python3"
  },
  "language_info": {
   "codemirror_mode": {
    "name": "ipython",
    "version": 3
   },
   "file_extension": ".py",
   "mimetype": "text/x-python",
   "name": "python",
   "nbconvert_exporter": "python",
   "pygments_lexer": "ipython3",
   "version": "3.6.5"
  }
 },
 "nbformat": 4,
 "nbformat_minor": 2
}
